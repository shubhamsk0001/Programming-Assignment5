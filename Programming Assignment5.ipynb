{
 "cells": [
  {
   "cell_type": "code",
   "execution_count": null,
   "id": "545ad544",
   "metadata": {},
   "outputs": [],
   "source": [
    "1. Write a Python Program to Find LCM?"
   ]
  },
  {
   "cell_type": "code",
   "execution_count": 4,
   "id": "ce04e8ad",
   "metadata": {},
   "outputs": [
    {
     "name": "stdout",
     "output_type": "stream",
     "text": [
      "Enter the first number=3\n",
      "Enter the second number=4\n",
      "LCM of 3 and 4=12\n"
     ]
    }
   ],
   "source": [
    "n1=int(input(\"Enter the first number=\"))\n",
    "n2=int(input(\"Enter the second number=\"))\n",
    "if n1>n2:\n",
    "    max1=n1\n",
    "else:\n",
    "    max1=n2\n",
    "while(True):\n",
    "    if max1%n1==0 and max1%n2==0:\n",
    "        lcm=max1\n",
    "        break\n",
    "    max1=max1+1\n",
    "print(f\"LCM of {n1} and {n2}={lcm}\")"
   ]
  },
  {
   "cell_type": "code",
   "execution_count": null,
   "id": "9b9e425d",
   "metadata": {},
   "outputs": [],
   "source": [
    "2. Write a Python Program to Find HCF?"
   ]
  },
  {
   "cell_type": "code",
   "execution_count": 5,
   "id": "5accd825",
   "metadata": {},
   "outputs": [
    {
     "name": "stdout",
     "output_type": "stream",
     "text": [
      "Enter the first number=12\n",
      "Enter the second number=18\n",
      "HCF of 12 and 18=6\n"
     ]
    }
   ],
   "source": [
    "n1=int(input(\"Enter the first number=\"))\n",
    "n2=int(input(\"Enter the second number=\"))\n",
    "hcf=1\n",
    "n3=min(n1,n2)\n",
    "for i in range(2,n3+1):\n",
    "    if(n1%i==0 and n2%i==0):\n",
    "        hcf=i\n",
    "print(f\"HCF of {n1} and {n2}={hcf}\")"
   ]
  },
  {
   "cell_type": "code",
   "execution_count": null,
   "id": "81486858",
   "metadata": {},
   "outputs": [],
   "source": [
    "3. Write a Python Program to Convert Decimal to Binary, Octal and Hexadecimal?"
   ]
  },
  {
   "cell_type": "code",
   "execution_count": 8,
   "id": "26aae707",
   "metadata": {},
   "outputs": [
    {
     "name": "stdout",
     "output_type": "stream",
     "text": [
      "Enter a no:72\n",
      "The decimal value of 72 is:\n",
      "0b1001000 in binary.\n",
      "0o110 in octal.\n",
      "0x48 in hexadecimal.\n"
     ]
    }
   ],
   "source": [
    "n=int(input(\"Enter a no:\"))\n",
    "print(\"The decimal value of\", n, \"is:\")\n",
    "print(bin(n), \"in binary.\")\n",
    "print(oct(n), \"in octal.\")\n",
    "print(hex(n), \"in hexadecimal.\")"
   ]
  },
  {
   "cell_type": "code",
   "execution_count": null,
   "id": "42a54d29",
   "metadata": {},
   "outputs": [],
   "source": [
    "4. Write a Python Program To Find ASCII value of a character?"
   ]
  },
  {
   "cell_type": "code",
   "execution_count": 1,
   "id": "e33b4c61",
   "metadata": {},
   "outputs": [
    {
     "name": "stdout",
     "output_type": "stream",
     "text": [
      "Enter the character whose ASCII is to be found=X\n",
      "The ASCII value of 'X' is 88\n"
     ]
    }
   ],
   "source": [
    "c=input(\"Enter the character whose ASCII is to be found=\")\n",
    "print(\"The ASCII value of '\" + c + \"' is\", ord(c))"
   ]
  },
  {
   "cell_type": "code",
   "execution_count": 16,
   "id": "bc8d3875",
   "metadata": {},
   "outputs": [
    {
     "name": "stdout",
     "output_type": "stream",
     "text": [
      "Enter the first number=8\n",
      "Enter the second number=4\n",
      "1.Addition 2.Subtraction 3.Multiplication 4.Division\n",
      "Which operation you want to do=4\n",
      "Division=2.0\n"
     ]
    }
   ],
   "source": [
    "n1=int(input(\"Enter the first number=\"))\n",
    "n2=int(input(\"Enter the second number=\"))\n",
    "print(\"1.Addition 2.Subtraction 3.Multiplication 4.Division\")\n",
    "i=int(input(\"Which operation you want to do=\"))\n",
    "if(i==1):\n",
    "    print(f\"Addition={n1+n2}\")\n",
    "elif(i==2):\n",
    "    print(f\"Sutraction={n1-n2}\")\n",
    "elif(i==3):\n",
    "    print(f\"Multiplication={n1*n2}\")\n",
    "elif(i==4):\n",
    "    print(f\"Division={n1/n2}\")\n",
    "else:\n",
    "    print(\"Invalid operation\")"
   ]
  }
 ],
 "metadata": {
  "kernelspec": {
   "display_name": "Python 3 (ipykernel)",
   "language": "python",
   "name": "python3"
  },
  "language_info": {
   "codemirror_mode": {
    "name": "ipython",
    "version": 3
   },
   "file_extension": ".py",
   "mimetype": "text/x-python",
   "name": "python",
   "nbconvert_exporter": "python",
   "pygments_lexer": "ipython3",
   "version": "3.9.12"
  }
 },
 "nbformat": 4,
 "nbformat_minor": 5
}
